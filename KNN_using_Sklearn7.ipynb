{
  "nbformat": 4,
  "nbformat_minor": 0,
  "metadata": {
    "colab": {
      "provenance": [],
      "name": "KNN using Sklearn7.ipynb",
      "authorship_tag": "ABX9TyPgYRd3njeX0nuKVo7N8qKr",
      "include_colab_link": true
    },
    "kernelspec": {
      "name": "python3",
      "display_name": "Python 3"
    },
    "language_info": {
      "name": "python"
    }
  },
  "cells": [
    {
      "cell_type": "markdown",
      "metadata": {
        "id": "view-in-github",
        "colab_type": "text"
      },
      "source": [
        "<a href=\"https://colab.research.google.com/github/sireesha733/Diamond-pattern/blob/main/KNN_using_Sklearn7.ipynb\" target=\"_parent\"><img src=\"https://colab.research.google.com/assets/colab-badge.svg\" alt=\"Open In Colab\"/></a>"
      ]
    },
    {
      "cell_type": "code",
      "execution_count": 3,
      "metadata": {
        "id": "l93Sh1bY8gNu",
        "colab": {
          "base_uri": "https://localhost:8080/"
        },
        "outputId": "aabe2243-fec7-484a-ed92-cdb87bab141b"
      },
      "outputs": [
        {
          "output_type": "stream",
          "name": "stdout",
          "text": [
            "For K=1 results are:\n",
            "              precision    recall  f1-score   support\n",
            "\n",
            "           0       0.89      0.89      0.89       146\n",
            "           1       0.90      0.90      0.90       154\n",
            "\n",
            "    accuracy                           0.89       300\n",
            "   macro avg       0.89      0.89      0.89       300\n",
            "weighted avg       0.89      0.89      0.89       300\n",
            "\n",
            "For k=23  result are:\n",
            "              precision    recall  f1-score   support\n",
            "\n",
            "           0       0.94      0.92      0.93       146\n",
            "           1       0.93      0.95      0.94       154\n",
            "\n",
            "    accuracy                           0.94       300\n",
            "   macro avg       0.94      0.94      0.94       300\n",
            "weighted avg       0.94      0.94      0.94       300\n",
            "\n",
            "For K=25 results are:\n",
            "              precision    recall  f1-score   support\n",
            "\n",
            "           0       0.92      0.91      0.92       146\n",
            "           1       0.92      0.93      0.92       154\n",
            "\n",
            "    accuracy                           0.92       300\n",
            "   macro avg       0.92      0.92      0.92       300\n",
            "weighted avg       0.92      0.92      0.92       300\n",
            "\n"
          ]
        }
      ],
      "source": [
        "import pandas as pd\n",
        "import numpy as np\n",
        "import seaborn as sns\n",
        "import matplotlib.pyplot as plt\n",
        "%matplotlib inline\n",
        "from sklearn.preprocessing import StandardScaler\n",
        "from sklearn.model_selection import train_test_split\n",
        "from sklearn.neighbors import KNeighborsClassifier\n",
        "from sklearn.metrics import classification_report\n",
        "df=pd.read_csv(\"/content/sample_data/ClassifiedData.csv\",index_col=0)\n",
        "scaler  = StandardScaler()\n",
        "scaler.fit(df.drop('TARGET CLASS',axis=1))\n",
        "scaled_features = scaler.transform(df.drop('TARGET CLASS',axis=1))\n",
        "df_feat=pd.DataFrame(scaled_features,columns=df.columns[:-1])\n",
        "x_train,x_test,y_train,y_test=train_test_split(scaled_features,\n",
        "df['TARGET CLASS'],test_size=0.30)\n",
        "#intially with k=1\n",
        "knn1= KNeighborsClassifier(n_neighbors=1)\n",
        "knn1.fit(x_train,y_train)\n",
        "pred1=knn1.predict(x_test)\n",
        "print(\"For K=1 results are:\")\n",
        "print(classification_report(y_test,pred1))\n",
        "#NOW WITH K=23\n",
        "knn23=KNeighborsClassifier(n_neighbors=23)\n",
        "knn23.fit(x_train,y_train)\n",
        "pred23 = knn23.predict(x_test)\n",
        "print(\"For k=23  result are:\")\n",
        "print(classification_report(y_test,pred23))\n",
        "#NOW WITH K=23\n",
        "knn25=KNeighborsClassifier(n_neighbors=10)\n",
        "knn25.fit(x_train,y_train)\n",
        "pred25=knn25.predict(x_test)\n",
        "print(\"For K=25 results are:\")\n",
        "print(classification_report(y_test,pred25))\n",
        "\n",
        "\n",
        "\n",
        "\n",
        "\n",
        "\n"
      ]
    }
  ]
}